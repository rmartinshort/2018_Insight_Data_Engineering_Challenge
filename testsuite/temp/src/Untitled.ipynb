{
 "cells": [
  {
   "cell_type": "code",
   "execution_count": 308,
   "metadata": {},
   "outputs": [],
   "source": [
    "infilename = '../../H1B_FY_2016.csv'"
   ]
  },
  {
   "cell_type": "code",
   "execution_count": 309,
   "metadata": {},
   "outputs": [],
   "source": [
    "states = ['HI','AK','WA','OR','CA','ID','NV','AZ','UT','WY','MT'\\\n",
    "          ,'CO','NM','TX','OK','KS','NE','SD','ND','MN','IA','MO','AR','LA','MS'\\\n",
    "          ,'TN','KY','IL','WI','MI','IN','OH','AL','FL','GA','SC','NC','VA','WV'\\\n",
    "          ,'DC','MD','NJ','CT','RI','MA','PA','NY','VT','NH','ME']\n",
    "visa_classes = ['H-1B','H-1B1','E-3']"
   ]
  },
  {
   "cell_type": "code",
   "execution_count": 310,
   "metadata": {},
   "outputs": [
    {
     "data": {
      "text/plain": [
       "50"
      ]
     },
     "execution_count": 310,
     "metadata": {},
     "output_type": "execute_result"
    }
   ],
   "source": [
    "len(states)"
   ]
  },
  {
   "cell_type": "code",
   "execution_count": 311,
   "metadata": {},
   "outputs": [],
   "source": [
    "import pandas as pd"
   ]
  },
  {
   "cell_type": "code",
   "execution_count": 312,
   "metadata": {},
   "outputs": [
    {
     "name": "stderr",
     "output_type": "stream",
     "text": [
      "/Users/rmartinshort/anaconda/envs/py36/lib/python3.6/site-packages/IPython/core/interactiveshell.py:2728: DtypeWarning: Columns (15,16) have mixed types. Specify dtype option on import or set low_memory=False.\n",
      "  interactivity=interactivity, compiler=compiler, result=result)\n"
     ]
    }
   ],
   "source": [
    "indf = pd.read_csv(infilename,sep=';')"
   ]
  },
  {
   "cell_type": "code",
   "execution_count": 313,
   "metadata": {},
   "outputs": [
    {
     "data": {
      "text/plain": [
       "array(['H-1B', 'H-1B1 Chile', 'H-1B1 Singapore', 'E-3 Australian',\n",
       "       'Select Visa Classification'], dtype=object)"
      ]
     },
     "execution_count": 313,
     "metadata": {},
     "output_type": "execute_result"
    }
   ],
   "source": [
    "indf['VISA_CLASS'].unique()"
   ]
  },
  {
   "cell_type": "code",
   "execution_count": 318,
   "metadata": {},
   "outputs": [],
   "source": [
    "colnames = ['STATUS','VISA_CLASS','SOC_CODE','SOC_NAME','WORKLOC1_STATE','WORKSITE_STATE']"
   ]
  },
  {
   "cell_type": "code",
   "execution_count": 319,
   "metadata": {},
   "outputs": [],
   "source": [
    "with open(infilename) as f:\n",
    "    first_line = f.readline()\n",
    "delim = first_line[0]"
   ]
  },
  {
   "cell_type": "code",
   "execution_count": 320,
   "metadata": {},
   "outputs": [],
   "source": [
    "first_line = first_line.split(delim)"
   ]
  },
  {
   "cell_type": "code",
   "execution_count": 321,
   "metadata": {},
   "outputs": [
    {
     "data": {
      "text/plain": [
       "['',\n",
       " 'CASE_NUMBER',\n",
       " 'CASE_STATUS',\n",
       " 'CASE_SUBMITTED',\n",
       " 'DECISION_DATE',\n",
       " 'VISA_CLASS',\n",
       " 'EMPLOYMENT_START_DATE',\n",
       " 'EMPLOYMENT_END_DATE',\n",
       " 'EMPLOYER_NAME',\n",
       " 'EMPLOYER_ADDRESS',\n",
       " 'EMPLOYER_CITY',\n",
       " 'EMPLOYER_STATE',\n",
       " 'EMPLOYER_POSTAL_CODE',\n",
       " 'EMPLOYER_COUNTRY',\n",
       " 'EMPLOYER_PROVINCE',\n",
       " 'EMPLOYER_PHONE',\n",
       " 'EMPLOYER_PHONE_EXT',\n",
       " 'AGENT_ATTORNEY_NAME',\n",
       " 'AGENT_ATTORNEY_CITY',\n",
       " 'AGENT_ATTORNEY_STATE',\n",
       " 'JOB_TITLE',\n",
       " 'SOC_CODE',\n",
       " 'SOC_NAME',\n",
       " 'NAIC_CODE',\n",
       " 'TOTAL_WORKERS',\n",
       " 'FULL_TIME_POSITION',\n",
       " 'PREVAILING_WAGE',\n",
       " 'PW_UNIT_OF_PAY',\n",
       " 'PW_WAGE_SOURCE',\n",
       " 'PW_SOURCE_YEAR',\n",
       " 'PW_SOURCE_OTHER',\n",
       " 'WAGE_RATE_OF_PAY_FROM',\n",
       " 'WAGE_RATE_OF_PAY_TO',\n",
       " 'WAGE_UNIT_OF_PAY',\n",
       " 'H-1B_DEPENDENT',\n",
       " 'WILLFUL_VIOLATOR',\n",
       " 'WORKSITE_CITY',\n",
       " 'WORKSITE_COUNTY',\n",
       " 'WORKSITE_STATE',\n",
       " 'WORKSITE_POSTAL_CODE',\n",
       " 'ORIGINAL_CERT_DATE\\n']"
      ]
     },
     "execution_count": 321,
     "metadata": {},
     "output_type": "execute_result"
    }
   ],
   "source": [
    "first_line"
   ]
  },
  {
   "cell_type": "code",
   "execution_count": 322,
   "metadata": {},
   "outputs": [
    {
     "name": "stdout",
     "output_type": "stream",
     "text": [
      "['CASE_STATUS', 'VISA_CLASS', 'SOC_CODE', 'SOC_NAME', 'WORKSITE_STATE'] [2, 5, 21, 22, 38]\n"
     ]
    }
   ],
   "source": [
    "#Figure out which columns to use\n",
    "\n",
    "used_colnames = []\n",
    "used_colname_indices = []\n",
    "\n",
    "for name in colnames:\n",
    "    for header in first_line:\n",
    "        if name in header:\n",
    "            used_colnames.append(header)\n",
    "            used_colname_indices.append(first_line.index(header))\n",
    "            \n",
    "print(used_colnames,used_colname_indices)"
   ]
  },
  {
   "cell_type": "code",
   "execution_count": 323,
   "metadata": {},
   "outputs": [],
   "source": [
    "infile = open(infilename)\n",
    "all_lines = infile.readlines()\n",
    "infile.close()\n",
    "\n",
    "#Generate dictionary to fill with names\n",
    "alldata = {}\n",
    "for name in used_colnames:\n",
    "    alldata[name] = ['NAN']*(len(all_lines)-1)"
   ]
  },
  {
   "cell_type": "code",
   "execution_count": 324,
   "metadata": {},
   "outputs": [
    {
     "data": {
      "text/plain": [
       "['CASE_STATUS', 'VISA_CLASS', 'SOC_CODE', 'SOC_NAME', 'WORKSITE_STATE']"
      ]
     },
     "execution_count": 324,
     "metadata": {},
     "output_type": "execute_result"
    }
   ],
   "source": [
    "list(alldata.keys())"
   ]
  },
  {
   "cell_type": "code",
   "execution_count": 325,
   "metadata": {},
   "outputs": [
    {
     "name": "stdout",
     "output_type": "stream",
     "text": [
      "CPU times: user 3.6 s, sys: 60.5 ms, total: 3.66 s\n",
      "Wall time: 3.69 s\n"
     ]
    }
   ],
   "source": [
    "%%time\n",
    "\n",
    "i = 0\n",
    "total_certified = 0\n",
    "\n",
    "db = open('for_debugging.txt','w')\n",
    "for line in all_lines[1:]:\n",
    "    vals = line.split(delim)\n",
    "    status = vals[used_colname_indices[0]]\n",
    "    visa_class = vals[used_colname_indices[1]].split(' ')[0]\n",
    "    soc_code = vals[used_colname_indices[2]]\n",
    "    soc_name = vals[used_colname_indices[3]]\n",
    "    workstate = vals[used_colname_indices[4]].strip()\n",
    "    if (status == \"CERTIFIED\") and (len(soc_code)==7) and (workstate in states):\n",
    "            #print(status,visa_class,soc_code,soc_name,workstate)\n",
    "            alldata[used_colnames[0]][i] = status\n",
    "            alldata[used_colnames[1]][i] = visa_class\n",
    "            alldata[used_colnames[2]][i] = soc_code\n",
    "            alldata[used_colnames[3]][i] = soc_name\n",
    "            alldata[used_colnames[4]][i] = workstate\n",
    "            total_certified += 1 \n",
    "    db.write('%s;%s;%s;%s;%s\\n' %(alldata[used_colnames[0]][i],alldata[used_colnames[1]][i],\\\n",
    "        alldata[used_colnames[2]][i],alldata[used_colnames[3]][i],alldata[used_colnames[4]][i]))\n",
    "    i += 1\n",
    "\n",
    "db.close()\n",
    "#Remove NANS\n",
    "#for colname in used_colnames:\n",
    "#    alldata[colname][:] = [value for value in alldata[colname] if value != 'NAN']"
   ]
  },
  {
   "cell_type": "code",
   "execution_count": 326,
   "metadata": {},
   "outputs": [
    {
     "name": "stdout",
     "output_type": "stream",
     "text": [
      "558533\n"
     ]
    }
   ],
   "source": [
    "print(total_certified)"
   ]
  },
  {
   "cell_type": "code",
   "execution_count": 327,
   "metadata": {},
   "outputs": [],
   "source": [
    "test = pd.read_csv('for_debugging.txt',sep=';',names=['status','type','code','job','state'])"
   ]
  },
  {
   "cell_type": "code",
   "execution_count": 328,
   "metadata": {},
   "outputs": [],
   "source": [
    "import numpy as np\n",
    "test.replace('NAN', np.nan,inplace=True)"
   ]
  },
  {
   "cell_type": "code",
   "execution_count": 329,
   "metadata": {},
   "outputs": [],
   "source": [
    "test.dropna(inplace=True)"
   ]
  },
  {
   "cell_type": "code",
   "execution_count": 330,
   "metadata": {},
   "outputs": [
    {
     "data": {
      "text/plain": [
       "array(['CA', 'VA', 'TX', 'FL', 'DC', 'IL', 'NC', 'RI', 'OH', 'MI', 'GA',\n",
       "       'NY', 'NJ', 'WA', 'MA', 'IN', 'MD', 'PA', 'MO', 'NV', 'MN', 'AZ',\n",
       "       'CO', 'TN', 'MS', 'UT', 'KS', 'WI', 'CT', 'NE', 'OK', 'AR', 'KY',\n",
       "       'SC', 'HI', 'AK', 'IA', 'WY', 'LA', 'NM', 'WV', 'SD', 'OR', 'ND',\n",
       "       'ME', 'AL', 'VT', 'ID', 'NH', 'MT'], dtype=object)"
      ]
     },
     "execution_count": 330,
     "metadata": {},
     "output_type": "execute_result"
    }
   ],
   "source": [
    "test['state'].unique()"
   ]
  },
  {
   "cell_type": "code",
   "execution_count": 331,
   "metadata": {},
   "outputs": [
    {
     "data": {
      "text/plain": [
       "array(['CERTIFIED'], dtype=object)"
      ]
     },
     "execution_count": 331,
     "metadata": {},
     "output_type": "execute_result"
    }
   ],
   "source": [
    "test['status'].unique()"
   ]
  },
  {
   "cell_type": "code",
   "execution_count": 332,
   "metadata": {},
   "outputs": [
    {
     "data": {
      "text/plain": [
       "array(['H-1B', 'H-1B1', 'E-3'], dtype=object)"
      ]
     },
     "execution_count": 332,
     "metadata": {},
     "output_type": "execute_result"
    }
   ],
   "source": [
    "test['type'].unique()"
   ]
  },
  {
   "cell_type": "code",
   "execution_count": 333,
   "metadata": {},
   "outputs": [
    {
     "data": {
      "text/plain": [
       "516"
      ]
     },
     "execution_count": 333,
     "metadata": {},
     "output_type": "execute_result"
    }
   ],
   "source": [
    "len(test['code'].unique())"
   ]
  },
  {
   "cell_type": "code",
   "execution_count": 334,
   "metadata": {},
   "outputs": [
    {
     "data": {
      "text/plain": [
       "784"
      ]
     },
     "execution_count": 334,
     "metadata": {},
     "output_type": "execute_result"
    }
   ],
   "source": [
    "len(test['job'].unique())"
   ]
  },
  {
   "cell_type": "code",
   "execution_count": 335,
   "metadata": {},
   "outputs": [],
   "source": [
    "#Find number of unique LCA SOC codes\n",
    "result = {}\n",
    "for entry in alldata[used_colnames[2]]:\n",
    "    if (entry != 'NAN'):\n",
    "        if entry not in result:\n",
    "            result[entry] = 0\n",
    "        result[entry] += 1"
   ]
  },
  {
   "cell_type": "code",
   "execution_count": 336,
   "metadata": {},
   "outputs": [
    {
     "data": {
      "text/plain": [
       "103588"
      ]
     },
     "execution_count": 336,
     "metadata": {},
     "output_type": "execute_result"
    }
   ],
   "source": [
    "result['15-1121']"
   ]
  },
  {
   "cell_type": "code",
   "execution_count": 337,
   "metadata": {},
   "outputs": [
    {
     "name": "stdout",
     "output_type": "stream",
     "text": [
      "15-1132 SOFTWARE DEVELOPERS, APPLICATIONS 105603 0.1890720870566287\n",
      "15-1121 COMPUTER SYSTEMS ANALYSTS 103588 0.18546442197685722\n",
      "15-1131 COMPUTER PROGRAMMERS 73520 0.13163053928774127\n",
      "15-1199 COMPUTER OCCUPATIONS, ALL OTHER 52634 0.09423615077354426\n",
      "15-1133 SOFTWARE DEVELOPERS, SYSTEMS SOFTWARE 19232 0.03443305946112405\n",
      "13-1111 MANAGEMENT ANALYSTS 13558 0.024274304293569048\n",
      "15-1142 NETWORK AND COMPUTER SYSTEMS ADMINISTRATORS 10114 0.018108151174594876\n",
      "13-2011 ACCOUNTANTS AND AUDITORS 9596 0.017180721640440225\n",
      "17-2141 MECHANICAL ENGINEERS 8255 0.014779789197773454\n",
      "13-2051 FINANCIAL ANALYSTS 7914 0.014169261261196742\n"
     ]
    }
   ],
   "source": [
    "#Top 10 occupations\n",
    "for w in list(sorted(result, key=result.get, reverse=True))[:10]:\n",
    "  ind_w = alldata[used_colnames[2]].index(w)\n",
    "  ind_name = alldata[used_colnames[3]][ind_w]\n",
    "  print(w, ind_name, result[w], result[w]/total_certified)"
   ]
  },
  {
   "cell_type": "code",
   "execution_count": 254,
   "metadata": {},
   "outputs": [],
   "source": [
    "#Find number of unique states\n",
    "result = {}\n",
    "for entry in alldata[used_colnames[4]]:\n",
    "    if (entry != 'NAN'):\n",
    "        if entry not in result:\n",
    "            result[entry] = 0\n",
    "        result[entry] += 1"
   ]
  },
  {
   "cell_type": "code",
   "execution_count": 255,
   "metadata": {},
   "outputs": [
    {
     "name": "stdout",
     "output_type": "stream",
     "text": [
      "CA 96878 0.18261812081169473\n",
      "TX 53825 0.10146184224167994\n",
      "NY 43886 0.08272651014618422\n",
      "NJ 42290 0.07971799922713692\n",
      "IL 28933 0.05453962808320531\n",
      "GA 20387 0.03843014543021141\n",
      "MA 19996 0.0376930979556829\n",
      "PA 19862 0.037440503680524796\n",
      "WA 18493 0.03485989500372294\n",
      "FL 17710 0.03338391502276176\n"
     ]
    }
   ],
   "source": [
    "#Top 10 states\n",
    "for w in list(sorted(result, key=result.get, reverse=True))[:10]:\n",
    "  print(w, result[w], result[w]/total_certified)"
   ]
  },
  {
   "cell_type": "code",
   "execution_count": 280,
   "metadata": {},
   "outputs": [
    {
     "data": {
      "text/plain": [
       "dict_keys(['CASE_STATUS', 'VISA_CLASS', 'SOC_CODE', 'SOC_NAME', 'WORKSITE_STATE'])"
      ]
     },
     "execution_count": 280,
     "metadata": {},
     "output_type": "execute_result"
    }
   ],
   "source": [
    "alldata.keys()"
   ]
  },
  {
   "cell_type": "code",
   "execution_count": 338,
   "metadata": {},
   "outputs": [],
   "source": [
    "a = '/usr/bin/env/python/hello.py'"
   ]
  },
  {
   "cell_type": "code",
   "execution_count": 340,
   "metadata": {},
   "outputs": [
    {
     "data": {
      "text/plain": [
       "'/usr/bin/env/python'"
      ]
     },
     "execution_count": 340,
     "metadata": {},
     "output_type": "execute_result"
    }
   ],
   "source": [
    "'/'.join(a.split('/')[:-1])"
   ]
  },
  {
   "cell_type": "code",
   "execution_count": 348,
   "metadata": {},
   "outputs": [],
   "source": [
    "names = ['EPSILON HELLO','ALPHA GO','BETA','GAMMA']\n",
    "vals = [1,1,1,3]"
   ]
  },
  {
   "cell_type": "code",
   "execution_count": 349,
   "metadata": {},
   "outputs": [
    {
     "name": "stdout",
     "output_type": "stream",
     "text": [
      "('ALPHA GO', 1)\n",
      "('BETA', 1)\n",
      "('EPSILON HELLO', 1)\n",
      "('GAMMA', 3)\n"
     ]
    }
   ],
   "source": [
    "for element in sorted(zip(names,vals)):\n",
    "    print(element)"
   ]
  },
  {
   "cell_type": "code",
   "execution_count": null,
   "metadata": {},
   "outputs": [],
   "source": []
  }
 ],
 "metadata": {
  "kernelspec": {
   "display_name": "Python 3",
   "language": "python",
   "name": "python3"
  },
  "language_info": {
   "codemirror_mode": {
    "name": "ipython",
    "version": 3
   },
   "file_extension": ".py",
   "mimetype": "text/x-python",
   "name": "python",
   "nbconvert_exporter": "python",
   "pygments_lexer": "ipython3",
   "version": "3.6.4"
  }
 },
 "nbformat": 4,
 "nbformat_minor": 2
}

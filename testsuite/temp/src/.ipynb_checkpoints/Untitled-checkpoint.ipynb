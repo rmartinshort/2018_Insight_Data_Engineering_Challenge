{
 "cells": [
  {
   "cell_type": "code",
   "execution_count": 260,
   "metadata": {},
   "outputs": [],
   "source": [
    "infilename = '../../H1B_FY_2015.csv'"
   ]
  },
  {
   "cell_type": "code",
   "execution_count": 261,
   "metadata": {},
   "outputs": [],
   "source": [
    "states = ['HI','AK','WA','OR','CA','ID','NV','AZ','UT','WY','MT'\\\n",
    "          ,'CO','NM','TX','OK','KS','NE','SD','ND','MN','IA','MO','AR','LA','MS'\\\n",
    "          ,'TN','KY','IL','WI','MI','IN','OH','AL','FL','GA','SC','NC','VA','WV'\\\n",
    "          ,'DC','MD','NJ','CT','RI','MA','PA','NY','VT','NH','ME']\n",
    "visa_classes = ['H1-B','H1-B1','E-3']"
   ]
  },
  {
   "cell_type": "code",
   "execution_count": 259,
   "metadata": {},
   "outputs": [
    {
     "data": {
      "text/plain": [
       "50"
      ]
     },
     "execution_count": 259,
     "metadata": {},
     "output_type": "execute_result"
    }
   ],
   "source": [
    "len(states)"
   ]
  },
  {
   "cell_type": "code",
   "execution_count": 234,
   "metadata": {},
   "outputs": [],
   "source": [
    "import pandas as pd"
   ]
  },
  {
   "cell_type": "code",
   "execution_count": 235,
   "metadata": {},
   "outputs": [],
   "source": [
    "indf = pd.read_csv(infilename,sep=';')"
   ]
  },
  {
   "cell_type": "code",
   "execution_count": 236,
   "metadata": {},
   "outputs": [
    {
     "data": {
      "text/plain": [
       "array(['H-1B', 'H-1B1 Chile', 'H-1B1 Singapore', 'E-3 Australian'],\n",
       "      dtype=object)"
      ]
     },
     "execution_count": 236,
     "metadata": {},
     "output_type": "execute_result"
    }
   ],
   "source": [
    "indf['VISA_CLASS'].unique()"
   ]
  },
  {
   "cell_type": "code",
   "execution_count": 237,
   "metadata": {},
   "outputs": [],
   "source": [
    "colnames = ['STATUS','VISA_CLASS','SOC_CODE','SOC_NAME','WORKLOC1_STATE','WORKSITE_STATE']"
   ]
  },
  {
   "cell_type": "code",
   "execution_count": 262,
   "metadata": {},
   "outputs": [],
   "source": [
    "with open(infilename) as f:\n",
    "    first_line = f.readline()\n",
    "delim = first_line[0]"
   ]
  },
  {
   "cell_type": "code",
   "execution_count": 263,
   "metadata": {},
   "outputs": [],
   "source": [
    "first_line = first_line.split(delim)"
   ]
  },
  {
   "cell_type": "code",
   "execution_count": 264,
   "metadata": {},
   "outputs": [
    {
     "data": {
      "text/plain": [
       "['',\n",
       " 'CASE_NUMBER',\n",
       " 'CASE_STATUS',\n",
       " 'CASE_SUBMITTED',\n",
       " 'DECISION_DATE',\n",
       " 'VISA_CLASS',\n",
       " 'EMPLOYMENT_START_DATE',\n",
       " 'EMPLOYMENT_END_DATE',\n",
       " 'EMPLOYER_NAME',\n",
       " 'EMPLOYER_ADDRESS1',\n",
       " 'EMPLOYER_ADDRESS2',\n",
       " 'EMPLOYER_CITY',\n",
       " 'EMPLOYER_STATE',\n",
       " 'EMPLOYER_POSTAL_CODE',\n",
       " 'EMPLOYER_COUNTRY',\n",
       " 'EMPLOYER_PROVINCE',\n",
       " 'EMPLOYER_PHONE',\n",
       " 'EMPLOYER_PHONE_EXT',\n",
       " 'AGENT_ATTORNEY_NAME',\n",
       " 'AGENT_ATTORNEY_CITY',\n",
       " 'AGENT_ATTORNEY_STATE',\n",
       " 'JOB_TITLE',\n",
       " 'SOC_CODE',\n",
       " 'SOC_NAME',\n",
       " 'NAIC_CODE',\n",
       " 'TOTAL WORKERS',\n",
       " 'FULL_TIME_POSITION',\n",
       " 'PREVAILING_WAGE',\n",
       " 'PW_UNIT_OF_PAY',\n",
       " 'PW_WAGE_LEVEL',\n",
       " 'PW_WAGE_SOURCE',\n",
       " 'PW_WAGE_SOURCE_YEAR',\n",
       " 'PW_WAGE_SOURCE_OTHER',\n",
       " 'WAGE_RATE_OF_PAY',\n",
       " 'WAGE_UNIT_OF_PAY',\n",
       " 'H-1B_DEPENDENT',\n",
       " 'WILLFUL VIOLATOR',\n",
       " 'WORKSITE_CITY',\n",
       " 'WORKSITE_COUNTY',\n",
       " 'WORKSITE_STATE',\n",
       " 'WORKSITE_POSTAL_CODE\\n']"
      ]
     },
     "execution_count": 264,
     "metadata": {},
     "output_type": "execute_result"
    }
   ],
   "source": [
    "first_line"
   ]
  },
  {
   "cell_type": "code",
   "execution_count": 265,
   "metadata": {},
   "outputs": [
    {
     "name": "stdout",
     "output_type": "stream",
     "text": [
      "['CASE_STATUS', 'VISA_CLASS', 'SOC_CODE', 'SOC_NAME', 'WORKSITE_STATE'] [2, 5, 22, 23, 39]\n"
     ]
    }
   ],
   "source": [
    "#Figure out which columns to use\n",
    "\n",
    "used_colnames = []\n",
    "used_colname_indices = []\n",
    "\n",
    "for name in colnames:\n",
    "    for header in first_line:\n",
    "        if name in header:\n",
    "            used_colnames.append(header)\n",
    "            used_colname_indices.append(first_line.index(header))\n",
    "            \n",
    "print(used_colnames,used_colname_indices)"
   ]
  },
  {
   "cell_type": "code",
   "execution_count": 266,
   "metadata": {},
   "outputs": [],
   "source": [
    "infile = open(infilename)\n",
    "all_lines = infile.readlines()\n",
    "infile.close()\n",
    "\n",
    "#Generate dictionary to fill with names\n",
    "alldata = {}\n",
    "for name in used_colnames:\n",
    "    alldata[name] = ['NAN']*(len(all_lines)-1)"
   ]
  },
  {
   "cell_type": "code",
   "execution_count": 267,
   "metadata": {},
   "outputs": [
    {
     "data": {
      "text/plain": [
       "['CASE_STATUS', 'VISA_CLASS', 'SOC_CODE', 'SOC_NAME', 'WORKSITE_STATE']"
      ]
     },
     "execution_count": 267,
     "metadata": {},
     "output_type": "execute_result"
    }
   ],
   "source": [
    "list(alldata.keys())"
   ]
  },
  {
   "cell_type": "code",
   "execution_count": 268,
   "metadata": {},
   "outputs": [
    {
     "name": "stdout",
     "output_type": "stream",
     "text": [
      "CPU times: user 3.56 s, sys: 323 ms, total: 3.89 s\n",
      "Wall time: 3.97 s\n"
     ]
    }
   ],
   "source": [
    "%%time\n",
    "\n",
    "i = 0\n",
    "total_certified = 0\n",
    "\n",
    "db = open('for_debugging.txt','w')\n",
    "for line in all_lines[1:]:\n",
    "    vals = line.split(delim)\n",
    "    status = vals[used_colname_indices[0]]\n",
    "    visa_class = vals[used_colname_indices[1]]\n",
    "    soc_code = vals[used_colname_indices[2]]\n",
    "    soc_name = vals[used_colname_indices[3]]\n",
    "    workstate = vals[used_colname_indices[4]].strip()\n",
    "    if (status == \"CERTIFIED\") and (len(soc_code)==7) and (visa_class == 'H-1B') and (workstate in states):\n",
    "            #print(status,visa_class,soc_code,soc_name,workstate)\n",
    "            alldata[used_colnames[0]][i] = status\n",
    "            alldata[used_colnames[1]][i] = visa_class\n",
    "            alldata[used_colnames[2]][i] = soc_code\n",
    "            alldata[used_colnames[3]][i] = soc_name\n",
    "            alldata[used_colnames[4]][i] = workstate\n",
    "            total_certified += 1 \n",
    "    db.write('%s;%s;%s;%s;%s\\n' %(alldata[used_colnames[0]][i],alldata[used_colnames[1]][i],\\\n",
    "        alldata[used_colnames[2]][i],alldata[used_colnames[3]][i],alldata[used_colnames[4]][i]))\n",
    "    i += 1\n",
    "\n",
    "db.close()\n",
    "#Remove NANS\n",
    "#for colname in used_colnames:\n",
    "#    alldata[colname][:] = [value for value in alldata[colname] if value != 'NAN']"
   ]
  },
  {
   "cell_type": "code",
   "execution_count": 269,
   "metadata": {},
   "outputs": [
    {
     "name": "stdout",
     "output_type": "stream",
     "text": [
      "526476\n"
     ]
    }
   ],
   "source": [
    "print(total_certified)"
   ]
  },
  {
   "cell_type": "code",
   "execution_count": 270,
   "metadata": {},
   "outputs": [],
   "source": [
    "test = pd.read_csv('for_debugging.txt',sep=';',names=['status','type','code','job','state'])"
   ]
  },
  {
   "cell_type": "code",
   "execution_count": 271,
   "metadata": {},
   "outputs": [],
   "source": [
    "import numpy as np\n",
    "test.replace('NAN', np.nan,inplace=True)"
   ]
  },
  {
   "cell_type": "code",
   "execution_count": 272,
   "metadata": {},
   "outputs": [],
   "source": [
    "test.dropna(inplace=True)"
   ]
  },
  {
   "cell_type": "code",
   "execution_count": 273,
   "metadata": {},
   "outputs": [
    {
     "data": {
      "text/plain": [
       "array(['OK', 'TX', 'VA', 'CA', 'PA', 'IL', 'NY', 'MI', 'TN', 'NC', 'FL',\n",
       "       'NJ', 'MD', 'DC', 'KY', 'GA', 'CT', 'RI', 'WA', 'SD', 'AZ', 'OH',\n",
       "       'MO', 'MN', 'IA', 'IN', 'MA', 'CO', 'AR', 'SC', 'NH', 'ME', 'NV',\n",
       "       'MS', 'WI', 'KS', 'OR', 'LA', 'ID', 'AL', 'NM', 'UT', 'HI', 'NE',\n",
       "       'WV', 'ND', 'VT', 'AK', 'MT', 'WY'], dtype=object)"
      ]
     },
     "execution_count": 273,
     "metadata": {},
     "output_type": "execute_result"
    }
   ],
   "source": [
    "test['state'].unique()"
   ]
  },
  {
   "cell_type": "code",
   "execution_count": 274,
   "metadata": {},
   "outputs": [
    {
     "data": {
      "text/plain": [
       "array(['CERTIFIED'], dtype=object)"
      ]
     },
     "execution_count": 274,
     "metadata": {},
     "output_type": "execute_result"
    }
   ],
   "source": [
    "test['status'].unique()"
   ]
  },
  {
   "cell_type": "code",
   "execution_count": 275,
   "metadata": {},
   "outputs": [
    {
     "data": {
      "text/plain": [
       "array(['H-1B'], dtype=object)"
      ]
     },
     "execution_count": 275,
     "metadata": {},
     "output_type": "execute_result"
    }
   ],
   "source": [
    "test['type'].unique()"
   ]
  },
  {
   "cell_type": "code",
   "execution_count": 276,
   "metadata": {},
   "outputs": [
    {
     "data": {
      "text/plain": [
       "514"
      ]
     },
     "execution_count": 276,
     "metadata": {},
     "output_type": "execute_result"
    }
   ],
   "source": [
    "len(test['code'].unique())"
   ]
  },
  {
   "cell_type": "code",
   "execution_count": 277,
   "metadata": {},
   "outputs": [
    {
     "data": {
      "text/plain": [
       "803"
      ]
     },
     "execution_count": 277,
     "metadata": {},
     "output_type": "execute_result"
    }
   ],
   "source": [
    "len(test['job'].unique())"
   ]
  },
  {
   "cell_type": "code",
   "execution_count": 278,
   "metadata": {},
   "outputs": [],
   "source": [
    "#Find number of unique LCA SOC codes\n",
    "result = {}\n",
    "for entry in alldata[used_colnames[2]]:\n",
    "    if (entry != 'NAN'):\n",
    "        if entry not in result:\n",
    "            result[entry] = 0\n",
    "        result[entry] += 1"
   ]
  },
  {
   "cell_type": "code",
   "execution_count": 279,
   "metadata": {},
   "outputs": [
    {
     "data": {
      "text/plain": [
       "106354"
      ]
     },
     "execution_count": 279,
     "metadata": {},
     "output_type": "execute_result"
    }
   ],
   "source": [
    "result['15-1121']"
   ]
  },
  {
   "cell_type": "code",
   "execution_count": 253,
   "metadata": {},
   "outputs": [
    {
     "name": "stdout",
     "output_type": "stream",
     "text": [
      "15-1121 COMPUTER SYSTEMS ANALYSTS 107350 0.2023581749121104\n",
      "15-1132 SOFTWARE DEVELOPERS, APPLICATIONS 87167 0.16431257599034862\n",
      "15-1131 COMPUTER PROGRAMMERS 80793 0.15229738263320106\n",
      "15-1199 COMPUTER OCCUPATIONS, ALL OTHER 49972 0.09419881431493228\n",
      "15-1133 SOFTWARE DEVELOPERS, SYSTEMS SOFTWARE 15099 0.028462096720987002\n",
      "13-1111 MANAGEMENT ANALYSTS 11607 0.0218795653116429\n",
      "15-1142 NETWORK AND COMPUTER SYSTEMS ADMINISTRATORS 9498 0.01790403302575896\n",
      "13-2011 ACCOUNTANTS AND AUDITORS 9324 0.017576037474434255\n",
      "13-2051 FINANCIAL ANALYSTS 7633 0.014388448524491277\n",
      "15-1141 DATABASE ADMINISTRATORS 7444 0.014032177494604095\n"
     ]
    }
   ],
   "source": [
    "#Top 10 occupations\n",
    "for w in list(sorted(result, key=result.get, reverse=True))[:10]:\n",
    "  ind_w = alldata[used_colnames[2]].index(w)\n",
    "  ind_name = alldata[used_colnames[3]][ind_w]\n",
    "  print(w, ind_name, result[w], result[w]/total_certified)"
   ]
  },
  {
   "cell_type": "code",
   "execution_count": 254,
   "metadata": {},
   "outputs": [],
   "source": [
    "#Find number of unique states\n",
    "result = {}\n",
    "for entry in alldata[used_colnames[4]]:\n",
    "    if (entry != 'NAN'):\n",
    "        if entry not in result:\n",
    "            result[entry] = 0\n",
    "        result[entry] += 1"
   ]
  },
  {
   "cell_type": "code",
   "execution_count": 255,
   "metadata": {},
   "outputs": [
    {
     "name": "stdout",
     "output_type": "stream",
     "text": [
      "CA 96878 0.18261812081169473\n",
      "TX 53825 0.10146184224167994\n",
      "NY 43886 0.08272651014618422\n",
      "NJ 42290 0.07971799922713692\n",
      "IL 28933 0.05453962808320531\n",
      "GA 20387 0.03843014543021141\n",
      "MA 19996 0.0376930979556829\n",
      "PA 19862 0.037440503680524796\n",
      "WA 18493 0.03485989500372294\n",
      "FL 17710 0.03338391502276176\n"
     ]
    }
   ],
   "source": [
    "#Top 10 states\n",
    "for w in list(sorted(result, key=result.get, reverse=True))[:10]:\n",
    "  print(w, result[w], result[w]/total_certified)"
   ]
  },
  {
   "cell_type": "code",
   "execution_count": 280,
   "metadata": {},
   "outputs": [
    {
     "data": {
      "text/plain": [
       "dict_keys(['CASE_STATUS', 'VISA_CLASS', 'SOC_CODE', 'SOC_NAME', 'WORKSITE_STATE'])"
      ]
     },
     "execution_count": 280,
     "metadata": {},
     "output_type": "execute_result"
    }
   ],
   "source": [
    "alldata.keys()"
   ]
  },
  {
   "cell_type": "code",
   "execution_count": null,
   "metadata": {},
   "outputs": [],
   "source": []
  }
 ],
 "metadata": {
  "kernelspec": {
   "display_name": "Python 3",
   "language": "python",
   "name": "python3"
  },
  "language_info": {
   "codemirror_mode": {
    "name": "ipython",
    "version": 3
   },
   "file_extension": ".py",
   "mimetype": "text/x-python",
   "name": "python",
   "nbconvert_exporter": "python",
   "pygments_lexer": "ipython3",
   "version": "3.6.4"
  }
 },
 "nbformat": 4,
 "nbformat_minor": 2
}
